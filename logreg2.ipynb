{
 "cells": [
  {
   "cell_type": "markdown",
   "id": "4ebf5560-4213-41c0-b2c5-a8fb9441e9b0",
   "metadata": {},
   "source": [
    "Q1. What is the purpose of grid search cv in machine learning, and how does it work?"
   ]
  },
  {
   "cell_type": "code",
   "execution_count": null,
   "id": "5238ebfd-703a-41c0-b20a-8892d98c14ba",
   "metadata": {},
   "outputs": [],
   "source": [
    "Ans:-Grid Search cv in machine learning provides to find hyperparameter of the model."
   ]
  },
  {
   "cell_type": "markdown",
   "id": "d431a227-fc4d-4952-8a4c-cb4c70c73176",
   "metadata": {},
   "source": [
    "Q2. Describe the difference between grid search cv and randomize search cv, and when might you choose\n",
    "one over the other?"
   ]
  },
  {
   "cell_type": "code",
   "execution_count": null,
   "id": "160b6ee5-5156-47ec-930b-6c425a2a89a2",
   "metadata": {},
   "outputs": [],
   "source": [
    "Ans:-\n",
    "      grid search cv :-\n",
    "       i.Finding the best parameter while training the model\n",
    "        ii.Grid Search CV is suitable when the search space of hyperparameters is relatively small.\n",
    "        \n",
    "        randomize search cv :-\n",
    "          i.Finding the best parameter while training the model\n",
    "            ii.Randomized Search CV is suitable when the search space of hyperparameters is large."
   ]
  },
  {
   "cell_type": "markdown",
   "id": "249b6d55-89e9-480f-a91e-a0feac101ba8",
   "metadata": {},
   "source": [
    "Q3. What is data leakage, and why is it a problem in machine learning? Provide an example."
   ]
  },
  {
   "cell_type": "code",
   "execution_count": null,
   "id": "75ed4522-8953-418c-9e13-c178ce221e3e",
   "metadata": {},
   "outputs": [],
   "source": [
    "Ans:-Data leakage occurs when information from outside the training data not properly used to create machine learning model.\n",
    "    ex:-\n",
    "     i.Creadit Card Fraud Detection"
   ]
  },
  {
   "cell_type": "markdown",
   "id": "ded7010a-4933-4124-af56-0f1949add07b",
   "metadata": {},
   "source": [
    "Q4. How can you prevent data leakage when building a machine learning model?"
   ]
  },
  {
   "cell_type": "code",
   "execution_count": null,
   "id": "609bfeb0-15e1-4d5f-862c-d540bfe20410",
   "metadata": {},
   "outputs": [],
   "source": [
    "Ans:-\n",
    "     i.seperate training & testing data\n",
    "      ii.proper cross validation\n",
    "        iii.future information avoid\n",
    "          iv.feature engg."
   ]
  },
  {
   "cell_type": "markdown",
   "id": "002b670d-a16f-4e91-bbd6-8b7489f306ed",
   "metadata": {},
   "source": [
    "Q5. What is a confusion matrix, and what does it tell you about the performance of a classification model?"
   ]
  },
  {
   "cell_type": "code",
   "execution_count": null,
   "id": "2753b061-38bb-4f95-896e-3e292d8f1849",
   "metadata": {},
   "outputs": [],
   "source": [
    "Ans:-confusion matrix to find accuracy of the model.It is 2*2 matrix\n",
    "     confusion matrix:\n",
    "        i.TP(True Positive)\n",
    "         ii.FP(False Positive)\n",
    "            iii.FN(False Negative)\n",
    "              iv.TN(True Negative)"
   ]
  },
  {
   "cell_type": "markdown",
   "id": "05247b66-f9c2-4464-be90-81c94e7eef04",
   "metadata": {},
   "source": [
    "Q6. Explain the difference between precision and recall in the context of a confusion matrix."
   ]
  },
  {
   "cell_type": "code",
   "execution_count": null,
   "id": "488a8410-e699-496b-be99-91f9e1ff7cba",
   "metadata": {},
   "outputs": [],
   "source": [
    "Ans:- If Data is imbalanced then we used pression & recall.Both are performance matrix.\n",
    "\n",
    "     precession:-TP/FP+TP------> reduce FP\n",
    "     \n",
    "        recall:-TP/FN+TP------->reduce FN\n",
    "   "
   ]
  },
  {
   "cell_type": "markdown",
   "id": "ae1c382d-d3a2-47b9-a9ae-54418f128980",
   "metadata": {},
   "source": [
    "Q7. How can you interpret a confusion matrix to determine which types of errors your model is making?"
   ]
  },
  {
   "cell_type": "code",
   "execution_count": null,
   "id": "c30a9ab1-7428-4330-9df7-70aeb8edbc19",
   "metadata": {},
   "outputs": [],
   "source": [
    "Ans:-\n",
    "       confusion matrix:\n",
    "        i.TP(True Positive)\n",
    "         ii.FP(False Positive)\n",
    "            iii.FN(False Negative)\n",
    "              iv.TN(True Negative)\n",
    "                \n",
    "                Imbalanced data."
   ]
  },
  {
   "cell_type": "markdown",
   "id": "077a6d55-3285-4dde-a39e-f4d1b31c967f",
   "metadata": {},
   "source": [
    "Q8. What are some common metrics that can be derived from a confusion matrix, and how are they\n",
    "calculated?"
   ]
  },
  {
   "cell_type": "code",
   "execution_count": null,
   "id": "f5eb05ee-183f-4953-9625-995169cee237",
   "metadata": {},
   "outputs": [],
   "source": [
    "Ans:-\n",
    "       i.confision matrix-------->TP,TN,FP,FN\n",
    "        ii.accracy------->TP+TN/FP+FN+TP+TN\n",
    "          iii.precision-------->TP/FP+TP\n",
    "             iv.recall-------->TP/FN+TP\n",
    "                v.F1 score--------> 2 * (Precision * Recall) / (Precision + Recall)"
   ]
  },
  {
   "cell_type": "markdown",
   "id": "a877cc3b-d35d-4b77-b73c-3d588377c64c",
   "metadata": {},
   "source": [
    "Q9. What is the relationship between the accuracy of a model and the values in its confusion matrix?"
   ]
  },
  {
   "cell_type": "code",
   "execution_count": null,
   "id": "441ea726-9ecd-4641-a426-4eaf670db1a2",
   "metadata": {},
   "outputs": [],
   "source": [
    "Ans:-\n",
    "       i.accracy------->TP+TN/FP+FN+TP+TN\n",
    "    \n",
    "    \n",
    "        ii.confusion matrix------>TP,TN,FP,FN"
   ]
  },
  {
   "cell_type": "markdown",
   "id": "f208ce09-d017-431d-967f-ead0172dde3c",
   "metadata": {},
   "source": [
    "Q10. How can you use a confusion matrix to identify potential biases or limitations in your machine learning\n",
    "model?"
   ]
  },
  {
   "cell_type": "code",
   "execution_count": null,
   "id": "1fff973a-3756-48ac-82c4-631792fc2a63",
   "metadata": {},
   "outputs": [],
   "source": [
    "Ans:-limitations in your machine learning model:-\n",
    "      i.imbalance data\n",
    "       ii.confusion matrix\n",
    "         iii.outlier\n",
    "            iv.Dispara performance"
   ]
  }
 ],
 "metadata": {
  "kernelspec": {
   "display_name": "Python 3 (ipykernel)",
   "language": "python",
   "name": "python3"
  },
  "language_info": {
   "codemirror_mode": {
    "name": "ipython",
    "version": 3
   },
   "file_extension": ".py",
   "mimetype": "text/x-python",
   "name": "python",
   "nbconvert_exporter": "python",
   "pygments_lexer": "ipython3",
   "version": "3.10.8"
  }
 },
 "nbformat": 4,
 "nbformat_minor": 5
}
